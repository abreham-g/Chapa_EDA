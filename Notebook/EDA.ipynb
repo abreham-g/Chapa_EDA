{
 "cells": [
  {
   "cell_type": "code",
   "execution_count": 46,
   "id": "b17810e0",
   "metadata": {},
   "outputs": [
    {
     "name": "stdout",
     "output_type": "stream",
     "text": [
      "Collecting psycopg2\n",
      "  Downloading psycopg2-2.9.10-cp312-cp312-win_amd64.whl.metadata (5.0 kB)\n",
      "Downloading psycopg2-2.9.10-cp312-cp312-win_amd64.whl (1.2 MB)\n",
      "   ---------------------------------------- 0.0/1.2 MB ? eta -:--:--\n",
      "   ---------------------------------------- 0.0/1.2 MB ? eta -:--:--\n",
      "   ---------------------------------------- 0.0/1.2 MB ? eta -:--:--\n",
      "   --------- ------------------------------ 0.3/1.2 MB ? eta -:--:--\n",
      "   ------------------ --------------------- 0.5/1.2 MB 1.3 MB/s eta 0:00:01\n",
      "   ---------------------------------------- 1.2/1.2 MB 2.2 MB/s eta 0:00:00\n",
      "Installing collected packages: psycopg2\n",
      "Successfully installed psycopg2-2.9.10\n"
     ]
    }
   ],
   "source": [
    "!pip install psycopg2"
   ]
  },
  {
   "cell_type": "code",
   "execution_count": 47,
   "id": "1a645731",
   "metadata": {},
   "outputs": [],
   "source": [
    "import psycopg2\n",
    "from psycopg2 import sql\n",
    "import pandas as pd"
   ]
  },
  {
   "cell_type": "code",
   "execution_count": 3,
   "id": "01785b61",
   "metadata": {},
   "outputs": [
    {
     "data": {
      "text/html": [
       "<div>\n",
       "<style scoped>\n",
       "    .dataframe tbody tr th:only-of-type {\n",
       "        vertical-align: middle;\n",
       "    }\n",
       "\n",
       "    .dataframe tbody tr th {\n",
       "        vertical-align: top;\n",
       "    }\n",
       "\n",
       "    .dataframe thead th {\n",
       "        text-align: right;\n",
       "    }\n",
       "</style>\n",
       "<table border=\"1\" class=\"dataframe\">\n",
       "  <thead>\n",
       "    <tr style=\"text-align: right;\">\n",
       "      <th></th>\n",
       "      <th>id</th>\n",
       "      <th>mobile</th>\n",
       "      <th>amount</th>\n",
       "      <th>payment_type</th>\n",
       "      <th>ref_id</th>\n",
       "      <th>status</th>\n",
       "      <th>attempts</th>\n",
       "      <th>device</th>\n",
       "      <th>created_at</th>\n",
       "      <th>updated_at</th>\n",
       "      <th>completed_at</th>\n",
       "    </tr>\n",
       "  </thead>\n",
       "  <tbody>\n",
       "    <tr>\n",
       "      <th>0</th>\n",
       "      <td>c4ac2d32-d1f1-4d29-bc18-d8c436134966</td>\n",
       "      <td>932065985</td>\n",
       "      <td>11601.87</td>\n",
       "      <td>chapa_bank_7</td>\n",
       "      <td>ft_JP4N46EPIIKJ</td>\n",
       "      <td>1</td>\n",
       "      <td>1</td>\n",
       "      <td>android</td>\n",
       "      <td>2025-05-31 14:34:07.417448</td>\n",
       "      <td>2025-05-31 14:34:47.417448</td>\n",
       "      <td>2025-05-31 14:34:47.417448</td>\n",
       "    </tr>\n",
       "    <tr>\n",
       "      <th>1</th>\n",
       "      <td>29644ae7-b34c-4133-816f-534e969d7597</td>\n",
       "      <td>997822985</td>\n",
       "      <td>7836.47</td>\n",
       "      <td>chapa_bank_10</td>\n",
       "      <td>ft_WPMBMS23NZK7</td>\n",
       "      <td>1</td>\n",
       "      <td>1</td>\n",
       "      <td>web</td>\n",
       "      <td>2025-07-14 14:17:34.637397</td>\n",
       "      <td>2025-07-14 14:17:59.637397</td>\n",
       "      <td>2025-07-14 14:17:59.637397</td>\n",
       "    </tr>\n",
       "    <tr>\n",
       "      <th>2</th>\n",
       "      <td>584e6fb3-dcf1-4378-8b80-25becbac0c6a</td>\n",
       "      <td>978764787</td>\n",
       "      <td>8026.88</td>\n",
       "      <td>chapa_bank_8</td>\n",
       "      <td>ft_PT2CCKG1I5VW</td>\n",
       "      <td>1</td>\n",
       "      <td>1</td>\n",
       "      <td>android</td>\n",
       "      <td>2025-06-21 04:21:26.893276</td>\n",
       "      <td>2025-06-21 04:21:34.893276</td>\n",
       "      <td>2025-06-21 04:21:34.893276</td>\n",
       "    </tr>\n",
       "    <tr>\n",
       "      <th>3</th>\n",
       "      <td>4c1e1d3c-2991-4488-81b5-8663cf76fab1</td>\n",
       "      <td>970388081</td>\n",
       "      <td>4350.67</td>\n",
       "      <td>chapa_bank_8</td>\n",
       "      <td>ft_AE5720JQQ234</td>\n",
       "      <td>1</td>\n",
       "      <td>1</td>\n",
       "      <td>android</td>\n",
       "      <td>2025-06-04 06:00:18.083075</td>\n",
       "      <td>2025-06-04 06:01:04.083075</td>\n",
       "      <td>2025-06-04 06:01:04.083075</td>\n",
       "    </tr>\n",
       "    <tr>\n",
       "      <th>4</th>\n",
       "      <td>c5dc93e5-48b6-4e66-8849-d66821a5dd70</td>\n",
       "      <td>939399629</td>\n",
       "      <td>12287.39</td>\n",
       "      <td>chapa_bank_3</td>\n",
       "      <td>ft_O81S8PN21RRR</td>\n",
       "      <td>1</td>\n",
       "      <td>1</td>\n",
       "      <td>android</td>\n",
       "      <td>2025-07-12 19:02:01.315022</td>\n",
       "      <td>2025-07-12 19:02:50.315022</td>\n",
       "      <td>2025-07-12 19:02:50.315022</td>\n",
       "    </tr>\n",
       "  </tbody>\n",
       "</table>\n",
       "</div>"
      ],
      "text/plain": [
       "                                     id     mobile    amount   payment_type  \\\n",
       "0  c4ac2d32-d1f1-4d29-bc18-d8c436134966  932065985  11601.87   chapa_bank_7   \n",
       "1  29644ae7-b34c-4133-816f-534e969d7597  997822985   7836.47  chapa_bank_10   \n",
       "2  584e6fb3-dcf1-4378-8b80-25becbac0c6a  978764787   8026.88   chapa_bank_8   \n",
       "3  4c1e1d3c-2991-4488-81b5-8663cf76fab1  970388081   4350.67   chapa_bank_8   \n",
       "4  c5dc93e5-48b6-4e66-8849-d66821a5dd70  939399629  12287.39   chapa_bank_3   \n",
       "\n",
       "            ref_id  status  attempts   device                  created_at  \\\n",
       "0  ft_JP4N46EPIIKJ       1         1  android  2025-05-31 14:34:07.417448   \n",
       "1  ft_WPMBMS23NZK7       1         1      web  2025-07-14 14:17:34.637397   \n",
       "2  ft_PT2CCKG1I5VW       1         1  android  2025-06-21 04:21:26.893276   \n",
       "3  ft_AE5720JQQ234       1         1  android  2025-06-04 06:00:18.083075   \n",
       "4  ft_O81S8PN21RRR       1         1  android  2025-07-12 19:02:01.315022   \n",
       "\n",
       "                   updated_at                completed_at  \n",
       "0  2025-05-31 14:34:47.417448  2025-05-31 14:34:47.417448  \n",
       "1  2025-07-14 14:17:59.637397  2025-07-14 14:17:59.637397  \n",
       "2  2025-06-21 04:21:34.893276  2025-06-21 04:21:34.893276  \n",
       "3  2025-06-04 06:01:04.083075  2025-06-04 06:01:04.083075  \n",
       "4  2025-07-12 19:02:50.315022  2025-07-12 19:02:50.315022  "
      ]
     },
     "execution_count": 3,
     "metadata": {},
     "output_type": "execute_result"
    }
   ],
   "source": [
    "df = pd.read_csv('C://Users//PC//Documents//Chapa//Data//transaction.csv')\n",
    "df.head()"
   ]
  },
  {
   "cell_type": "code",
   "execution_count": null,
   "id": "5ff8fac7",
   "metadata": {},
   "outputs": [
    {
     "data": {
      "text/plain": [
       "id                 0\n",
       "mobile             0\n",
       "amount             0\n",
       "payment_type       0\n",
       "ref_id             0\n",
       "status             0\n",
       "attempts           0\n",
       "device             0\n",
       "created_at         0\n",
       "updated_at         0\n",
       "completed_at    8097\n",
       "dtype: int64"
      ]
     },
     "execution_count": 4,
     "metadata": {},
     "output_type": "execute_result"
    }
   ],
   "source": [
    "df.isnull().sum()"
   ]
  },
  {
   "cell_type": "markdown",
   "id": "07add4a9",
   "metadata": {},
   "source": [
    "- there is no completed_at time for 8097 transactions beacuse this transactions was not successfull (failed)"
   ]
  },
  {
   "cell_type": "code",
   "execution_count": 45,
   "id": "9a3465cc",
   "metadata": {},
   "outputs": [
    {
     "name": "stdout",
     "output_type": "stream",
     "text": [
      "Successful transactions with completed_at: 71903\n",
      "Non-successful transactions with completed_at: 0\n"
     ]
    }
   ],
   "source": [
    "# number of successful vs missing completed_at\n",
    "print(\"Successful transactions with completed_at:\", df[df['status'] == 1]['completed_at'].notnull().sum())\n",
    "print(\"Non-successful transactions with completed_at:\", df[df['status'] != 1]['completed_at'].notnull().sum())\n"
   ]
  },
  {
   "cell_type": "code",
   "execution_count": 6,
   "id": "d2cad30b",
   "metadata": {},
   "outputs": [],
   "source": [
    "df['created_at'] = pd.to_datetime(df['created_at'], errors='coerce')\n",
    "df['updated_at'] = pd.to_datetime(df['updated_at'], errors='coerce')\n",
    "df['completed_at'] = pd.to_datetime(df['completed_at'], errors='coerce')"
   ]
  },
  {
   "cell_type": "markdown",
   "id": "6a29a150",
   "metadata": {},
   "source": [
    "### time to complete (for successful ones)"
   ]
  },
  {
   "cell_type": "code",
   "execution_count": 7,
   "id": "c36b1949",
   "metadata": {},
   "outputs": [],
   "source": [
    "df['time_to_complete'] = (df['completed_at'] - df['created_at']).dt.total_seconds()"
   ]
  },
  {
   "cell_type": "code",
   "execution_count": 10,
   "id": "5f0badfa",
   "metadata": {},
   "outputs": [
    {
     "data": {
      "text/html": [
       "<div>\n",
       "<style scoped>\n",
       "    .dataframe tbody tr th:only-of-type {\n",
       "        vertical-align: middle;\n",
       "    }\n",
       "\n",
       "    .dataframe tbody tr th {\n",
       "        vertical-align: top;\n",
       "    }\n",
       "\n",
       "    .dataframe thead th {\n",
       "        text-align: right;\n",
       "    }\n",
       "</style>\n",
       "<table border=\"1\" class=\"dataframe\">\n",
       "  <thead>\n",
       "    <tr style=\"text-align: right;\">\n",
       "      <th></th>\n",
       "      <th>id</th>\n",
       "      <th>mobile</th>\n",
       "      <th>amount</th>\n",
       "      <th>payment_type</th>\n",
       "      <th>ref_id</th>\n",
       "      <th>status</th>\n",
       "      <th>attempts</th>\n",
       "      <th>device</th>\n",
       "      <th>created_at</th>\n",
       "      <th>updated_at</th>\n",
       "      <th>completed_at</th>\n",
       "      <th>time_to_complete</th>\n",
       "    </tr>\n",
       "  </thead>\n",
       "  <tbody>\n",
       "    <tr>\n",
       "      <th>0</th>\n",
       "      <td>c4ac2d32-d1f1-4d29-bc18-d8c436134966</td>\n",
       "      <td>932065985</td>\n",
       "      <td>11601.87</td>\n",
       "      <td>chapa_bank_7</td>\n",
       "      <td>ft_JP4N46EPIIKJ</td>\n",
       "      <td>1</td>\n",
       "      <td>1</td>\n",
       "      <td>android</td>\n",
       "      <td>2025-05-31 14:34:07.417448</td>\n",
       "      <td>2025-05-31 14:34:47.417448</td>\n",
       "      <td>2025-05-31 14:34:47.417448</td>\n",
       "      <td>40.0</td>\n",
       "    </tr>\n",
       "    <tr>\n",
       "      <th>1</th>\n",
       "      <td>29644ae7-b34c-4133-816f-534e969d7597</td>\n",
       "      <td>997822985</td>\n",
       "      <td>7836.47</td>\n",
       "      <td>chapa_bank_10</td>\n",
       "      <td>ft_WPMBMS23NZK7</td>\n",
       "      <td>1</td>\n",
       "      <td>1</td>\n",
       "      <td>web</td>\n",
       "      <td>2025-07-14 14:17:34.637397</td>\n",
       "      <td>2025-07-14 14:17:59.637397</td>\n",
       "      <td>2025-07-14 14:17:59.637397</td>\n",
       "      <td>25.0</td>\n",
       "    </tr>\n",
       "    <tr>\n",
       "      <th>2</th>\n",
       "      <td>584e6fb3-dcf1-4378-8b80-25becbac0c6a</td>\n",
       "      <td>978764787</td>\n",
       "      <td>8026.88</td>\n",
       "      <td>chapa_bank_8</td>\n",
       "      <td>ft_PT2CCKG1I5VW</td>\n",
       "      <td>1</td>\n",
       "      <td>1</td>\n",
       "      <td>android</td>\n",
       "      <td>2025-06-21 04:21:26.893276</td>\n",
       "      <td>2025-06-21 04:21:34.893276</td>\n",
       "      <td>2025-06-21 04:21:34.893276</td>\n",
       "      <td>8.0</td>\n",
       "    </tr>\n",
       "  </tbody>\n",
       "</table>\n",
       "</div>"
      ],
      "text/plain": [
       "                                     id     mobile    amount   payment_type  \\\n",
       "0  c4ac2d32-d1f1-4d29-bc18-d8c436134966  932065985  11601.87   chapa_bank_7   \n",
       "1  29644ae7-b34c-4133-816f-534e969d7597  997822985   7836.47  chapa_bank_10   \n",
       "2  584e6fb3-dcf1-4378-8b80-25becbac0c6a  978764787   8026.88   chapa_bank_8   \n",
       "\n",
       "            ref_id  status  attempts   device                 created_at  \\\n",
       "0  ft_JP4N46EPIIKJ       1         1  android 2025-05-31 14:34:07.417448   \n",
       "1  ft_WPMBMS23NZK7       1         1      web 2025-07-14 14:17:34.637397   \n",
       "2  ft_PT2CCKG1I5VW       1         1  android 2025-06-21 04:21:26.893276   \n",
       "\n",
       "                  updated_at               completed_at  time_to_complete  \n",
       "0 2025-05-31 14:34:47.417448 2025-05-31 14:34:47.417448              40.0  \n",
       "1 2025-07-14 14:17:59.637397 2025-07-14 14:17:59.637397              25.0  \n",
       "2 2025-06-21 04:21:34.893276 2025-06-21 04:21:34.893276               8.0  "
      ]
     },
     "execution_count": 10,
     "metadata": {},
     "output_type": "execute_result"
    }
   ],
   "source": [
    "df[:3]"
   ]
  },
  {
   "cell_type": "markdown",
   "id": "85ccee47",
   "metadata": {},
   "source": [
    "### friction flag"
   ]
  },
  {
   "cell_type": "code",
   "execution_count": 12,
   "id": "1a42a832",
   "metadata": {},
   "outputs": [
    {
     "data": {
      "text/html": [
       "<div>\n",
       "<style scoped>\n",
       "    .dataframe tbody tr th:only-of-type {\n",
       "        vertical-align: middle;\n",
       "    }\n",
       "\n",
       "    .dataframe tbody tr th {\n",
       "        vertical-align: top;\n",
       "    }\n",
       "\n",
       "    .dataframe thead th {\n",
       "        text-align: right;\n",
       "    }\n",
       "</style>\n",
       "<table border=\"1\" class=\"dataframe\">\n",
       "  <thead>\n",
       "    <tr style=\"text-align: right;\">\n",
       "      <th></th>\n",
       "      <th>id</th>\n",
       "      <th>mobile</th>\n",
       "      <th>amount</th>\n",
       "      <th>payment_type</th>\n",
       "      <th>ref_id</th>\n",
       "      <th>status</th>\n",
       "      <th>attempts</th>\n",
       "      <th>device</th>\n",
       "      <th>created_at</th>\n",
       "      <th>updated_at</th>\n",
       "      <th>completed_at</th>\n",
       "      <th>time_to_complete</th>\n",
       "      <th>is_friction</th>\n",
       "    </tr>\n",
       "  </thead>\n",
       "  <tbody>\n",
       "    <tr>\n",
       "      <th>0</th>\n",
       "      <td>c4ac2d32-d1f1-4d29-bc18-d8c436134966</td>\n",
       "      <td>932065985</td>\n",
       "      <td>11601.87</td>\n",
       "      <td>chapa_bank_7</td>\n",
       "      <td>ft_JP4N46EPIIKJ</td>\n",
       "      <td>1</td>\n",
       "      <td>1</td>\n",
       "      <td>android</td>\n",
       "      <td>2025-05-31 14:34:07.417448</td>\n",
       "      <td>2025-05-31 14:34:47.417448</td>\n",
       "      <td>2025-05-31 14:34:47.417448</td>\n",
       "      <td>40.0</td>\n",
       "      <td>False</td>\n",
       "    </tr>\n",
       "    <tr>\n",
       "      <th>1</th>\n",
       "      <td>29644ae7-b34c-4133-816f-534e969d7597</td>\n",
       "      <td>997822985</td>\n",
       "      <td>7836.47</td>\n",
       "      <td>chapa_bank_10</td>\n",
       "      <td>ft_WPMBMS23NZK7</td>\n",
       "      <td>1</td>\n",
       "      <td>1</td>\n",
       "      <td>web</td>\n",
       "      <td>2025-07-14 14:17:34.637397</td>\n",
       "      <td>2025-07-14 14:17:59.637397</td>\n",
       "      <td>2025-07-14 14:17:59.637397</td>\n",
       "      <td>25.0</td>\n",
       "      <td>False</td>\n",
       "    </tr>\n",
       "    <tr>\n",
       "      <th>2</th>\n",
       "      <td>584e6fb3-dcf1-4378-8b80-25becbac0c6a</td>\n",
       "      <td>978764787</td>\n",
       "      <td>8026.88</td>\n",
       "      <td>chapa_bank_8</td>\n",
       "      <td>ft_PT2CCKG1I5VW</td>\n",
       "      <td>1</td>\n",
       "      <td>1</td>\n",
       "      <td>android</td>\n",
       "      <td>2025-06-21 04:21:26.893276</td>\n",
       "      <td>2025-06-21 04:21:34.893276</td>\n",
       "      <td>2025-06-21 04:21:34.893276</td>\n",
       "      <td>8.0</td>\n",
       "      <td>False</td>\n",
       "    </tr>\n",
       "    <tr>\n",
       "      <th>3</th>\n",
       "      <td>4c1e1d3c-2991-4488-81b5-8663cf76fab1</td>\n",
       "      <td>970388081</td>\n",
       "      <td>4350.67</td>\n",
       "      <td>chapa_bank_8</td>\n",
       "      <td>ft_AE5720JQQ234</td>\n",
       "      <td>1</td>\n",
       "      <td>1</td>\n",
       "      <td>android</td>\n",
       "      <td>2025-06-04 06:00:18.083075</td>\n",
       "      <td>2025-06-04 06:01:04.083075</td>\n",
       "      <td>2025-06-04 06:01:04.083075</td>\n",
       "      <td>46.0</td>\n",
       "      <td>False</td>\n",
       "    </tr>\n",
       "    <tr>\n",
       "      <th>4</th>\n",
       "      <td>c5dc93e5-48b6-4e66-8849-d66821a5dd70</td>\n",
       "      <td>939399629</td>\n",
       "      <td>12287.39</td>\n",
       "      <td>chapa_bank_3</td>\n",
       "      <td>ft_O81S8PN21RRR</td>\n",
       "      <td>1</td>\n",
       "      <td>1</td>\n",
       "      <td>android</td>\n",
       "      <td>2025-07-12 19:02:01.315022</td>\n",
       "      <td>2025-07-12 19:02:50.315022</td>\n",
       "      <td>2025-07-12 19:02:50.315022</td>\n",
       "      <td>49.0</td>\n",
       "      <td>False</td>\n",
       "    </tr>\n",
       "  </tbody>\n",
       "</table>\n",
       "</div>"
      ],
      "text/plain": [
       "                                     id     mobile    amount   payment_type  \\\n",
       "0  c4ac2d32-d1f1-4d29-bc18-d8c436134966  932065985  11601.87   chapa_bank_7   \n",
       "1  29644ae7-b34c-4133-816f-534e969d7597  997822985   7836.47  chapa_bank_10   \n",
       "2  584e6fb3-dcf1-4378-8b80-25becbac0c6a  978764787   8026.88   chapa_bank_8   \n",
       "3  4c1e1d3c-2991-4488-81b5-8663cf76fab1  970388081   4350.67   chapa_bank_8   \n",
       "4  c5dc93e5-48b6-4e66-8849-d66821a5dd70  939399629  12287.39   chapa_bank_3   \n",
       "\n",
       "            ref_id  status  attempts   device                 created_at  \\\n",
       "0  ft_JP4N46EPIIKJ       1         1  android 2025-05-31 14:34:07.417448   \n",
       "1  ft_WPMBMS23NZK7       1         1      web 2025-07-14 14:17:34.637397   \n",
       "2  ft_PT2CCKG1I5VW       1         1  android 2025-06-21 04:21:26.893276   \n",
       "3  ft_AE5720JQQ234       1         1  android 2025-06-04 06:00:18.083075   \n",
       "4  ft_O81S8PN21RRR       1         1  android 2025-07-12 19:02:01.315022   \n",
       "\n",
       "                  updated_at               completed_at  time_to_complete  \\\n",
       "0 2025-05-31 14:34:47.417448 2025-05-31 14:34:47.417448              40.0   \n",
       "1 2025-07-14 14:17:59.637397 2025-07-14 14:17:59.637397              25.0   \n",
       "2 2025-06-21 04:21:34.893276 2025-06-21 04:21:34.893276               8.0   \n",
       "3 2025-06-04 06:01:04.083075 2025-06-04 06:01:04.083075              46.0   \n",
       "4 2025-07-12 19:02:50.315022 2025-07-12 19:02:50.315022              49.0   \n",
       "\n",
       "   is_friction  \n",
       "0        False  \n",
       "1        False  \n",
       "2        False  \n",
       "3        False  \n",
       "4        False  "
      ]
     },
     "execution_count": 12,
     "metadata": {},
     "output_type": "execute_result"
    }
   ],
   "source": [
    "df['is_friction'] = (df['status'] != 1) | (df['attempts'] > 1)\n",
    "df[:5]"
   ]
  },
  {
   "cell_type": "code",
   "execution_count": null,
   "id": "95d6ecd3",
   "metadata": {},
   "outputs": [],
   "source": [
    "status_change = df\n",
    "status_change['completed_at'] = status_change['completed_at'].apply(lambda x: None if pd.isna(x) else x)"
   ]
  },
  {
   "cell_type": "markdown",
   "id": "f2180b57",
   "metadata": {},
   "source": [
    "#### data inserted to db "
   ]
  },
  {
   "cell_type": "code",
   "execution_count": 79,
   "id": "5cd4dd64",
   "metadata": {},
   "outputs": [
    {
     "name": "stdout",
     "output_type": "stream",
     "text": [
      "Null check:\n",
      "created_at             0\n",
      "updated_at             0\n",
      "completed_at        8097\n",
      "time_to_complete    8097\n",
      "dtype: int64\n",
      "✅ Data inserted successfully.\n"
     ]
    }
   ],
   "source": [
    "# Database connection parameters\n",
    "db_host = '127.0.0.1'\n",
    "db_name = 'chapa_transaction'\n",
    "db_user = 'postgres'\n",
    "db_password = '*************'\n",
    "\n",
    "# Load your DataFrame (example if not already loaded)\n",
    "# status_change = pd.read_csv(\"transactions.csv\")\n",
    "\n",
    "# Convert string timestamps to datetime\n",
    "status_change['created_at'] = pd.to_datetime(status_change['created_at'], errors='coerce')\n",
    "status_change['updated_at'] = pd.to_datetime(status_change['updated_at'], errors='coerce')\n",
    "status_change['completed_at'] = pd.to_datetime(status_change['completed_at'], errors='coerce')\n",
    "\n",
    "# Add status_label\n",
    "status_change['status_label'] = status_change['status'].map({0: 'Pending', 1: 'Success', 2: 'Failed'})\n",
    "\n",
    "# Add friction flag\n",
    "status_change['is_friction'] = (status_change['status'] != 1) | (status_change['attempts'] > 1)\n",
    "\n",
    "# Add time_to_complete (only for successful transactions)\n",
    "status_change['time_to_complete'] = (status_change['completed_at'] - status_change['created_at']).dt.total_seconds()\n",
    "status_change['time_to_complete'] = status_change.apply(\n",
    "    lambda x: x['time_to_complete'] if x['status'] == 1 else None, axis=1\n",
    ")\n",
    "\n",
    "# Confirm nulls in critical fields\n",
    "print(\"Null check:\")\n",
    "print(status_change[['created_at', 'updated_at', 'completed_at', 'time_to_complete']].isnull().sum())\n",
    "\n",
    "try:\n",
    "    # Connect to the PostgreSQL database\n",
    "    connection = psycopg2.connect(\n",
    "        host=db_host,\n",
    "        database=db_name,\n",
    "        user=db_user,\n",
    "        password=db_password\n",
    "    )\n",
    "\n",
    "    cursor = connection.cursor()\n",
    "\n",
    "    # SQL query to insert data\n",
    "    insert_query = sql.SQL(\"\"\"\n",
    "        INSERT INTO payment.transaction (\n",
    "            mobile, amount, payment_type, ref_id, status, attempts,\n",
    "            device, created_at, updated_at, completed_at,\n",
    "            time_to_complete, is_friction, status_label\n",
    "        )\n",
    "        VALUES (%s, %s, %s, %s, %s, %s, %s, %s, %s, %s, %s, %s, %s)\n",
    "    \"\"\")\n",
    "\n",
    "    # Insert each record\n",
    "    for index, record in status_change.iterrows():\n",
    "        # Convert pandas Timestamps to Python datetimes\n",
    "        created_at = record['created_at'].to_pydatetime() if pd.notnull(record['created_at']) else None\n",
    "        updated_at = record['updated_at'].to_pydatetime() if pd.notnull(record['updated_at']) else None\n",
    "        completed_at = record['completed_at'].to_pydatetime() if pd.notnull(record['completed_at']) else None\n",
    "        time_to_complete = float(record['time_to_complete']) if pd.notnull(record['time_to_complete']) else None\n",
    "\n",
    "        cursor.execute(insert_query, (\n",
    "            record['mobile'],\n",
    "            record['amount'],\n",
    "            record['payment_type'],\n",
    "            record['ref_id'],\n",
    "            record['status'],\n",
    "            record['attempts'],\n",
    "            record['device'],\n",
    "            created_at,\n",
    "            updated_at,\n",
    "            completed_at,\n",
    "            time_to_complete,\n",
    "            record['is_friction'],\n",
    "            record['status_label']\n",
    "        ))\n",
    "\n",
    "        # print(f\"Inserted record {index}\")\n",
    "\n",
    "    # Commit the transaction\n",
    "    connection.commit()\n",
    "    print(\"✅ Data inserted successfully.\")\n",
    "\n",
    "except Exception as e:\n",
    "    print(f\"❌ An error occurred: {e}\")\n",
    "\n",
    "finally:\n",
    "    # Close the cursor and connection\n",
    "    if 'cursor' in locals():\n",
    "        cursor.close()\n",
    "    if 'connection' in locals():\n",
    "        connection.close()\n",
    "\n"
   ]
  },
  {
   "cell_type": "code",
   "execution_count": 21,
   "id": "13202695",
   "metadata": {},
   "outputs": [
    {
     "data": {
      "text/html": [
       "<div>\n",
       "<style scoped>\n",
       "    .dataframe tbody tr th:only-of-type {\n",
       "        vertical-align: middle;\n",
       "    }\n",
       "\n",
       "    .dataframe tbody tr th {\n",
       "        vertical-align: top;\n",
       "    }\n",
       "\n",
       "    .dataframe thead th {\n",
       "        text-align: right;\n",
       "    }\n",
       "</style>\n",
       "<table border=\"1\" class=\"dataframe\">\n",
       "  <thead>\n",
       "    <tr style=\"text-align: right;\">\n",
       "      <th></th>\n",
       "      <th>id</th>\n",
       "      <th>mobile</th>\n",
       "      <th>amount</th>\n",
       "      <th>payment_type</th>\n",
       "      <th>ref_id</th>\n",
       "      <th>status</th>\n",
       "      <th>attempts</th>\n",
       "      <th>device</th>\n",
       "      <th>created_at</th>\n",
       "      <th>updated_at</th>\n",
       "      <th>completed_at</th>\n",
       "      <th>time_to_complete</th>\n",
       "      <th>is_friction</th>\n",
       "      <th>status_label</th>\n",
       "    </tr>\n",
       "  </thead>\n",
       "  <tbody>\n",
       "    <tr>\n",
       "      <th>0</th>\n",
       "      <td>c4ac2d32-d1f1-4d29-bc18-d8c436134966</td>\n",
       "      <td>932065985</td>\n",
       "      <td>11601.87</td>\n",
       "      <td>chapa_bank_7</td>\n",
       "      <td>ft_JP4N46EPIIKJ</td>\n",
       "      <td>1</td>\n",
       "      <td>1</td>\n",
       "      <td>android</td>\n",
       "      <td>2025-05-31 14:34:07.417448</td>\n",
       "      <td>2025-05-31 14:34:47.417448</td>\n",
       "      <td>2025-05-31 14:34:47.417448</td>\n",
       "      <td>40.0</td>\n",
       "      <td>False</td>\n",
       "      <td>Success</td>\n",
       "    </tr>\n",
       "    <tr>\n",
       "      <th>1</th>\n",
       "      <td>29644ae7-b34c-4133-816f-534e969d7597</td>\n",
       "      <td>997822985</td>\n",
       "      <td>7836.47</td>\n",
       "      <td>chapa_bank_10</td>\n",
       "      <td>ft_WPMBMS23NZK7</td>\n",
       "      <td>1</td>\n",
       "      <td>1</td>\n",
       "      <td>web</td>\n",
       "      <td>2025-07-14 14:17:34.637397</td>\n",
       "      <td>2025-07-14 14:17:59.637397</td>\n",
       "      <td>2025-07-14 14:17:59.637397</td>\n",
       "      <td>25.0</td>\n",
       "      <td>False</td>\n",
       "      <td>Success</td>\n",
       "    </tr>\n",
       "    <tr>\n",
       "      <th>2</th>\n",
       "      <td>584e6fb3-dcf1-4378-8b80-25becbac0c6a</td>\n",
       "      <td>978764787</td>\n",
       "      <td>8026.88</td>\n",
       "      <td>chapa_bank_8</td>\n",
       "      <td>ft_PT2CCKG1I5VW</td>\n",
       "      <td>1</td>\n",
       "      <td>1</td>\n",
       "      <td>android</td>\n",
       "      <td>2025-06-21 04:21:26.893276</td>\n",
       "      <td>2025-06-21 04:21:34.893276</td>\n",
       "      <td>2025-06-21 04:21:34.893276</td>\n",
       "      <td>8.0</td>\n",
       "      <td>False</td>\n",
       "      <td>Success</td>\n",
       "    </tr>\n",
       "    <tr>\n",
       "      <th>3</th>\n",
       "      <td>4c1e1d3c-2991-4488-81b5-8663cf76fab1</td>\n",
       "      <td>970388081</td>\n",
       "      <td>4350.67</td>\n",
       "      <td>chapa_bank_8</td>\n",
       "      <td>ft_AE5720JQQ234</td>\n",
       "      <td>1</td>\n",
       "      <td>1</td>\n",
       "      <td>android</td>\n",
       "      <td>2025-06-04 06:00:18.083075</td>\n",
       "      <td>2025-06-04 06:01:04.083075</td>\n",
       "      <td>2025-06-04 06:01:04.083075</td>\n",
       "      <td>46.0</td>\n",
       "      <td>False</td>\n",
       "      <td>Success</td>\n",
       "    </tr>\n",
       "  </tbody>\n",
       "</table>\n",
       "</div>"
      ],
      "text/plain": [
       "                                     id     mobile    amount   payment_type  \\\n",
       "0  c4ac2d32-d1f1-4d29-bc18-d8c436134966  932065985  11601.87   chapa_bank_7   \n",
       "1  29644ae7-b34c-4133-816f-534e969d7597  997822985   7836.47  chapa_bank_10   \n",
       "2  584e6fb3-dcf1-4378-8b80-25becbac0c6a  978764787   8026.88   chapa_bank_8   \n",
       "3  4c1e1d3c-2991-4488-81b5-8663cf76fab1  970388081   4350.67   chapa_bank_8   \n",
       "\n",
       "            ref_id  status  attempts   device                 created_at  \\\n",
       "0  ft_JP4N46EPIIKJ       1         1  android 2025-05-31 14:34:07.417448   \n",
       "1  ft_WPMBMS23NZK7       1         1      web 2025-07-14 14:17:34.637397   \n",
       "2  ft_PT2CCKG1I5VW       1         1  android 2025-06-21 04:21:26.893276   \n",
       "3  ft_AE5720JQQ234       1         1  android 2025-06-04 06:00:18.083075   \n",
       "\n",
       "                  updated_at               completed_at  time_to_complete  \\\n",
       "0 2025-05-31 14:34:47.417448 2025-05-31 14:34:47.417448              40.0   \n",
       "1 2025-07-14 14:17:59.637397 2025-07-14 14:17:59.637397              25.0   \n",
       "2 2025-06-21 04:21:34.893276 2025-06-21 04:21:34.893276               8.0   \n",
       "3 2025-06-04 06:01:04.083075 2025-06-04 06:01:04.083075              46.0   \n",
       "\n",
       "   is_friction status_label  \n",
       "0        False      Success  \n",
       "1        False      Success  \n",
       "2        False      Success  \n",
       "3        False      Success  "
      ]
     },
     "execution_count": 21,
     "metadata": {},
     "output_type": "execute_result"
    }
   ],
   "source": [
    "status_change['status_label'] = status_change['status'].map({0: 'Pending', 1: 'Success', 2: 'Failed'})\n",
    "status_change[:4]"
   ]
  },
  {
   "cell_type": "code",
   "execution_count": 80,
   "id": "18e87784",
   "metadata": {},
   "outputs": [
    {
     "data": {
      "text/plain": [
       "603508498.6700001"
      ]
     },
     "execution_count": 80,
     "metadata": {},
     "output_type": "execute_result"
    }
   ],
   "source": [
    "status_change['amount'].sum()"
   ]
  },
  {
   "cell_type": "code",
   "execution_count": 23,
   "id": "46126224",
   "metadata": {},
   "outputs": [
    {
     "name": "stdout",
     "output_type": "stream",
     "text": [
      "📦 Basic Stats\n",
      "Total Transactions: 80000\n",
      "Successful: 71903\n",
      "Pending: 4001\n",
      "Failed: 4096\n",
      "Friction Transactions: 11636\n",
      "\n",
      "💰 Amount Stats\n",
      "Min Amount: 50.26 Birr\n",
      "Max Amount: 14,999.92 Birr\n",
      "Average Amount: 7,543.86 Birr\n"
     ]
    }
   ],
   "source": [
    "print(\"📦 Basic Stats\")\n",
    "print(f\"Total Transactions: {len(status_change)}\")\n",
    "print(f\"Successful: {len(status_change[status_change.status == 1])}\")\n",
    "print(f\"Pending: {len(status_change[status_change.status == 0])}\")\n",
    "print(f\"Failed: {len(status_change[status_change.status == 2])}\")\n",
    "print(f\"Friction Transactions: {status_change['is_friction'].sum()}\")\n",
    "\n",
    "print(\"\\n💰 Amount Stats\")\n",
    "print(f\"Min Amount: {status_change.amount.min():,.2f} Birr\")\n",
    "print(f\"Max Amount: {status_change.amount.max():,.2f} Birr\")\n",
    "print(f\"Average Amount: {status_change.amount.mean():,.2f} Birr\")\n"
   ]
  },
  {
   "cell_type": "markdown",
   "id": "97a7eab1",
   "metadata": {},
   "source": [
    "### Success Rate by Payment Type"
   ]
  },
  {
   "cell_type": "code",
   "execution_count": 24,
   "id": "03bd2092",
   "metadata": {},
   "outputs": [
    {
     "name": "stdout",
     "output_type": "stream",
     "text": [
      "\n",
      "✅ Success Rate by Payment Type:\n",
      " payment_type\n",
      "chapa_bank_5     90.348723\n",
      "chapa_bank_3     90.117380\n",
      "chapa_bank_10    90.104232\n",
      "chapa_bank_6     90.007628\n",
      "chapa_bank_1     89.950311\n",
      "chapa_bank_2     89.908601\n",
      "chapa_bank_4     89.791328\n",
      "chapa_bank_8     89.580172\n",
      "chapa_bank_9     89.501604\n",
      "chapa_bank_7     89.478261\n",
      "Name: status, dtype: float64\n"
     ]
    }
   ],
   "source": [
    "success_by_payment = status_change.groupby('payment_type')['status'].apply(lambda x: (x == 1).mean() * 100).sort_values(ascending=False)\n",
    "print(\"\\n✅ Success Rate by Payment Type:\\n\", success_by_payment)\n"
   ]
  },
  {
   "cell_type": "markdown",
   "id": "16ca588e",
   "metadata": {},
   "source": [
    "### Avg Amount by Device"
   ]
  },
  {
   "cell_type": "code",
   "execution_count": 30,
   "id": "f124ce4a",
   "metadata": {},
   "outputs": [
    {
     "name": "stdout",
     "output_type": "stream",
     "text": [
      "\n",
      "📱 average transaction Amount in Birr by Device:\n",
      " device\n",
      "android    7534.662526\n",
      "ios        7551.346973\n",
      "web        7547.257465\n",
      "Name: amount, dtype: float64\n"
     ]
    }
   ],
   "source": [
    "avg_amount_by_device = status_change.groupby('device')['amount'].mean()\n",
    "print(\"\\n📱 average transaction Amount in Birr by Device:\\n\", avg_amount_by_device)\n"
   ]
  },
  {
   "cell_type": "markdown",
   "id": "99b8bb76",
   "metadata": {},
   "source": [
    "### Time to Completion (Success Only)"
   ]
  },
  {
   "cell_type": "code",
   "execution_count": 31,
   "id": "c9d8e5ff",
   "metadata": {},
   "outputs": [
    {
     "name": "stdout",
     "output_type": "stream",
     "text": [
      "\n",
      "⏳ Time to Completion (Success Only):\n",
      " count    71903.000000\n",
      "mean        32.402236\n",
      "std         16.175580\n",
      "min          5.000000\n",
      "25%         18.000000\n",
      "50%         32.000000\n",
      "75%         46.000000\n",
      "max         60.000000\n",
      "Name: time_to_complete, dtype: float64\n"
     ]
    }
   ],
   "source": [
    "completion_stats = status_change[status_change.status == 1]['time_to_complete'].describe()\n",
    "print(\"\\n⏳ Time to Completion (Success Only):\\n\", completion_stats)\n"
   ]
  },
  {
   "cell_type": "markdown",
   "id": "8afd785a",
   "metadata": {},
   "source": [
    "- max time to complete a transaction has taken 60 seconds and the minimum is 5 seconds.\n",
    "- the average time to complete 71903 transaction successfully is 32 seconds.\n"
   ]
  },
  {
   "cell_type": "markdown",
   "id": "8f338f95",
   "metadata": {},
   "source": [
    "#### Attempts"
   ]
  },
  {
   "cell_type": "code",
   "execution_count": 32,
   "id": "8ae6e31a",
   "metadata": {},
   "outputs": [
    {
     "name": "stdout",
     "output_type": "stream",
     "text": [
      "\n",
      "🔁 Transactions with Multiple Attempts: 3539\n",
      "Percentage: 4.42%\n"
     ]
    }
   ],
   "source": [
    "multi_attempts = status_change[status_change.attempts > 1]\n",
    "print(f\"\\n🔁 Transactions with Multiple Attempts: {len(multi_attempts)}\")\n",
    "print(f\"Percentage: {(len(multi_attempts) / len(df)) * 100:.2f}%\")\n"
   ]
  },
  {
   "cell_type": "code",
   "execution_count": 34,
   "id": "916a808e",
   "metadata": {},
   "outputs": [
    {
     "data": {
      "text/plain": [
       "status_label\n",
       "Success    3539\n",
       "Name: count, dtype: int64"
      ]
     },
     "execution_count": 34,
     "metadata": {},
     "output_type": "execute_result"
    }
   ],
   "source": [
    "multi_attempts = status_change[status_change.attempts > 1]\n",
    "multi_attempts['status_label'].value_counts()"
   ]
  },
  {
   "cell_type": "markdown",
   "id": "2c2fefd5",
   "metadata": {},
   "source": [
    "- from the whole transaction completed by customers 4.42% of transaction was completed with attempts"
   ]
  },
  {
   "cell_type": "markdown",
   "id": "97504b6a",
   "metadata": {},
   "source": [
    "### transaction status starting may 15, 2025 to jul 16, 2025"
   ]
  },
  {
   "cell_type": "code",
   "execution_count": 35,
   "id": "1627b5a1",
   "metadata": {},
   "outputs": [],
   "source": [
    "status_change['date'] = status_change['created_at'].dt.date\n",
    "transactions_per_day = status_change.groupby('date')['id'].count()\n",
    "success_per_day = status_change[status_change.status == 1].groupby('date')['id'].count()\n",
    "failed_per_day = status_change[status_change.status == 2].groupby('date')['id'].count()\n",
    "\n",
    "# Merge into single DataFrame for export or visualization\n",
    "trend_df = pd.DataFrame({\n",
    "    'total': transactions_per_day,\n",
    "    'success': success_per_day,\n",
    "    'failed': failed_per_day\n",
    "}).fillna(0)\n"
   ]
  },
  {
   "cell_type": "code",
   "execution_count": null,
   "id": "61ddaed2",
   "metadata": {},
   "outputs": [
    {
     "data": {
      "text/html": [
       "<div>\n",
       "<style scoped>\n",
       "    .dataframe tbody tr th:only-of-type {\n",
       "        vertical-align: middle;\n",
       "    }\n",
       "\n",
       "    .dataframe tbody tr th {\n",
       "        vertical-align: top;\n",
       "    }\n",
       "\n",
       "    .dataframe thead th {\n",
       "        text-align: right;\n",
       "    }\n",
       "</style>\n",
       "<table border=\"1\" class=\"dataframe\">\n",
       "  <thead>\n",
       "    <tr style=\"text-align: right;\">\n",
       "      <th></th>\n",
       "      <th>date</th>\n",
       "      <th>total</th>\n",
       "      <th>success</th>\n",
       "      <th>failed</th>\n",
       "    </tr>\n",
       "  </thead>\n",
       "  <tbody>\n",
       "    <tr>\n",
       "      <th>0</th>\n",
       "      <td>2025-05-16</td>\n",
       "      <td>638</td>\n",
       "      <td>565</td>\n",
       "      <td>37</td>\n",
       "    </tr>\n",
       "    <tr>\n",
       "      <th>1</th>\n",
       "      <td>2025-05-17</td>\n",
       "      <td>1316</td>\n",
       "      <td>1186</td>\n",
       "      <td>64</td>\n",
       "    </tr>\n",
       "    <tr>\n",
       "      <th>2</th>\n",
       "      <td>2025-05-18</td>\n",
       "      <td>1297</td>\n",
       "      <td>1166</td>\n",
       "      <td>63</td>\n",
       "    </tr>\n",
       "    <tr>\n",
       "      <th>3</th>\n",
       "      <td>2025-05-19</td>\n",
       "      <td>1385</td>\n",
       "      <td>1231</td>\n",
       "      <td>77</td>\n",
       "    </tr>\n",
       "    <tr>\n",
       "      <th>4</th>\n",
       "      <td>2025-05-20</td>\n",
       "      <td>1406</td>\n",
       "      <td>1278</td>\n",
       "      <td>69</td>\n",
       "    </tr>\n",
       "    <tr>\n",
       "      <th>...</th>\n",
       "      <td>...</td>\n",
       "      <td>...</td>\n",
       "      <td>...</td>\n",
       "      <td>...</td>\n",
       "    </tr>\n",
       "    <tr>\n",
       "      <th>56</th>\n",
       "      <td>2025-07-11</td>\n",
       "      <td>1307</td>\n",
       "      <td>1190</td>\n",
       "      <td>59</td>\n",
       "    </tr>\n",
       "    <tr>\n",
       "      <th>57</th>\n",
       "      <td>2025-07-12</td>\n",
       "      <td>1306</td>\n",
       "      <td>1171</td>\n",
       "      <td>77</td>\n",
       "    </tr>\n",
       "    <tr>\n",
       "      <th>58</th>\n",
       "      <td>2025-07-13</td>\n",
       "      <td>1335</td>\n",
       "      <td>1198</td>\n",
       "      <td>70</td>\n",
       "    </tr>\n",
       "    <tr>\n",
       "      <th>59</th>\n",
       "      <td>2025-07-14</td>\n",
       "      <td>1398</td>\n",
       "      <td>1254</td>\n",
       "      <td>69</td>\n",
       "    </tr>\n",
       "    <tr>\n",
       "      <th>60</th>\n",
       "      <td>2025-07-15</td>\n",
       "      <td>681</td>\n",
       "      <td>613</td>\n",
       "      <td>29</td>\n",
       "    </tr>\n",
       "  </tbody>\n",
       "</table>\n",
       "<p>61 rows × 4 columns</p>\n",
       "</div>"
      ],
      "text/plain": [
       "          date  total  success  failed\n",
       "0   2025-05-16    638      565      37\n",
       "1   2025-05-17   1316     1186      64\n",
       "2   2025-05-18   1297     1166      63\n",
       "3   2025-05-19   1385     1231      77\n",
       "4   2025-05-20   1406     1278      69\n",
       "..         ...    ...      ...     ...\n",
       "56  2025-07-11   1307     1190      59\n",
       "57  2025-07-12   1306     1171      77\n",
       "58  2025-07-13   1335     1198      70\n",
       "59  2025-07-14   1398     1254      69\n",
       "60  2025-07-15    681      613      29\n",
       "\n",
       "[61 rows x 4 columns]"
      ]
     },
     "execution_count": 42,
     "metadata": {},
     "output_type": "execute_result"
    }
   ],
   "source": [
    "transactions_per_days = trend_df.reset_index()\n",
    "transactions_per_days"
   ]
  },
  {
   "cell_type": "markdown",
   "id": "2f7fb493",
   "metadata": {},
   "source": [
    "### Friction by Device and Payment Type"
   ]
  },
  {
   "cell_type": "code",
   "execution_count": 43,
   "id": "ae96fd9f",
   "metadata": {},
   "outputs": [
    {
     "name": "stdout",
     "output_type": "stream",
     "text": [
      "\n",
      "❌ Friction by Device:\n",
      " device\n",
      "android    4706\n",
      "ios        4623\n",
      "web        2307\n",
      "Name: id, dtype: int64\n",
      "\n",
      "❌ Friction by Payment Type:\n",
      " payment_type\n",
      "chapa_bank_1     1150\n",
      "chapa_bank_10    1131\n",
      "chapa_bank_2     1170\n",
      "chapa_bank_3     1163\n",
      "chapa_bank_4     1168\n",
      "chapa_bank_5     1145\n",
      "chapa_bank_6     1131\n",
      "chapa_bank_7     1168\n",
      "chapa_bank_8     1201\n",
      "chapa_bank_9     1209\n",
      "Name: id, dtype: int64\n"
     ]
    }
   ],
   "source": [
    "friction_by_device = status_change[status_change.is_friction].groupby('device')['id'].count()\n",
    "friction_by_payment = status_change[status_change.is_friction].groupby('payment_type')['id'].count()\n",
    "\n",
    "print(\"\\n❌ Friction by Device:\\n\", friction_by_device)\n",
    "print(\"\\n❌ Friction by Payment Type:\\n\", friction_by_payment)\n"
   ]
  },
  {
   "cell_type": "markdown",
   "id": "cbf41d01",
   "metadata": {},
   "source": [
    "### Conclusion\n",
    "The analysis presented in this transaction report provides valuable insights into the performance and efficiency of payment processing across various devices and payment types. Key findings include:\n",
    "\n",
    "- Friction Rate Analysis: The friction rate varies significantly by device, indicating that user experience can be enhanced on specific platforms to reduce transaction failures.\n",
    "\n",
    "- Average Time to Complete Transactions: The average completion time for transactions shows discrepancies among different payment types, suggesting areas for optimization in processing speed.\n",
    "\n",
    "- Revenue Loss Identification: The report highlights substantial revenue losses due to failed and pending transactions, emphasizing the need for strategies to minimize these occurrences.\n",
    "\n",
    "- Failed Transactions by Device: Specific devices report higher rates of transaction failures, warranting further investigation into their compatibility and performance.\n",
    "\n",
    "- Multi-Attempt Patterns: The analysis of multi-attempt counts reveals user behavior trends that can inform improvements in the payment process.\n",
    "\n",
    "- Transaction Amount Variability: The distribution of transaction amounts per device offers insights into revenue generation potential and user spending behavior.\n",
    "\n",
    "- Status Label Insights: Understanding the status labels assigned to transactions helps in assessing overall transaction health and identifying areas for intervention.\n",
    "\n",
    "By addressing the identified issues and leveraging the insights gained, the company can enhance its payment processing system, improve user satisfaction, and ultimately drive higher revenue. Ongoing monitoring and analysis will be essential to ensure sustained improvements and adapt to evolving user needs.\n",
    "\n"
   ]
  },
  {
   "cell_type": "code",
   "execution_count": null,
   "id": "bb2f4bf3",
   "metadata": {},
   "outputs": [],
   "source": []
  }
 ],
 "metadata": {
  "kernelspec": {
   "display_name": "Python [conda env:base] *",
   "language": "python",
   "name": "conda-base-py"
  },
  "language_info": {
   "codemirror_mode": {
    "name": "ipython",
    "version": 3
   },
   "file_extension": ".py",
   "mimetype": "text/x-python",
   "name": "python",
   "nbconvert_exporter": "python",
   "pygments_lexer": "ipython3",
   "version": "3.12.7"
  }
 },
 "nbformat": 4,
 "nbformat_minor": 5
}
